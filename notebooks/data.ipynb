{
 "cells": [
  {
   "cell_type": "code",
   "execution_count": 6,
   "metadata": {},
   "outputs": [],
   "source": [
    "import os\n",
    "import json\n",
    "import argparse\n",
    "from typing import List, Dict, Tuple, Any\n",
    "from tqdm import tqdm"
   ]
  },
  {
   "cell_type": "code",
   "execution_count": 7,
   "id": "3d0e6e71",
   "metadata": {},
   "outputs": [],
   "source": [
    "def read_text_file(file_path: str) -> List[str]:\n",
    "    with open(file_path, \"r\", newline=\"\", encoding=\"utf-8\") as file:\n",
    "        return file.read().strip().split(\"\\n\")\n",
    "\n",
    "def read_truth_file(file_path: str) -> Dict[str, Any]:\n",
    "    with open(file_path, \"r\", encoding=\"utf-8\") as file:\n",
    "        return json.load(file)"
   ]
  },
  {
   "cell_type": "code",
   "execution_count": null,
   "id": "b6467aad",
   "metadata": {},
   "outputs": [],
   "source": [
    "def create_contrastive_pairs(text_lines: List[str], changes: List[int]) -> List[Dict[str, Any]]:\n",
    "    \"\"\"Create contrastive learning pairs from text lines and change information.\"\"\"\n",
    "    if len(text_lines) - 1 != len(changes):\n",
    "        print(f\"Warning: Mismatch between text lines ({len(text_lines)}) and changes ({len(changes)})\")\n",
    "        # Handle the case where they don't match\n",
    "        min_len = min(len(text_lines) - 1, len(changes))\n",
    "        changes = changes[:min_len]\n",
    "        text_lines = text_lines[:min_len + 1]\n",
    "    \n",
    "    pairs = []\n",
    "    for i in range(len(changes)):\n",
    "        pair = {\n",
    "            \"sentence1\": text_lines[i],\n",
    "            \"sentence2\": text_lines[i + 1],\n",
    "            \"label\": changes[i],  # 0: same author, 1: different author\n",
    "        }\n",
    "        pairs.append(pair)\n",
    "    \n",
    "    return pairs\n",
    "\n",
    "def process_directory(dir_path: str) -> List[Dict[str, Any]]:\n",
    "    \"\"\"Process all files in the directory and create contrastive pairs.\"\"\"\n",
    "    all_pairs = []\n",
    "    problem_files = [f for f in os.listdir(dir_path) if f.startswith(\"problem-\") and f.endswith(\".txt\")]\n",
    "    \n",
    "    for problem_file in tqdm(problem_files):\n",
    "        problem_id = problem_file.replace(\"problem-\", \"\").replace(\".txt\", \"\")\n",
    "        truth_file = f\"truth-problem-{problem_id}.json\"\n",
    "        \n",
    "        text_path = os.path.join(dir_path, problem_file)\n",
    "        truth_path = os.path.join(dir_path, truth_file)\n",
    "        \n",
    "        if not os.path.exists(truth_path):\n",
    "            print(f\"Warning: Truth file not found for {problem_file}\")\n",
    "            continue\n",
    "        \n",
    "        text_lines = read_text_file(text_path)\n",
    "        truth_data = read_truth_file(truth_path)\n",
    "        \n",
    "        if \"changes\" not in truth_data:\n",
    "            print(f\"Warning: No 'changes' key in truth file for {problem_file}\")\n",
    "            continue\n",
    "        \n",
    "        changes = truth_data[\"changes\"]\n",
    "        pairs = create_contrastive_pairs(text_lines, changes)\n",
    "        \n",
    "        for pair in pairs:\n",
    "            pair[\"problem_id\"] = problem_id\n",
    "        \n",
    "        all_pairs.extend(pairs)\n",
    "    \n",
    "    return all_pairs"
   ]
  },
  {
   "cell_type": "code",
   "execution_count": null,
   "id": "a9f63e47",
   "metadata": {},
   "outputs": [
    {
     "name": "stderr",
     "output_type": "stream",
     "text": [
      "100%|██████████| 4200/4200 [00:01<00:00, 2434.99it/s]\n"
     ]
    },
    {
     "name": "stdout",
     "output_type": "stream",
     "text": [
      "Created 48402 contrastive pairs\n",
      "Saved 48402 pairs to ../data/processed/easy_train.json\n"
     ]
    },
    {
     "name": "stderr",
     "output_type": "stream",
     "text": [
      "100%|██████████| 900/900 [00:26<00:00, 34.50it/s]\n"
     ]
    },
    {
     "name": "stdout",
     "output_type": "stream",
     "text": [
      "Created 10247 contrastive pairs\n",
      "Saved 10247 pairs to ../data/processed/easy_valid.json\n"
     ]
    },
    {
     "name": "stderr",
     "output_type": "stream",
     "text": [
      "100%|██████████| 4200/4200 [00:23<00:00, 176.64it/s] \n"
     ]
    },
    {
     "name": "stdout",
     "output_type": "stream",
     "text": [
      "Created 58817 contrastive pairs\n",
      "Saved 58817 pairs to ../data/processed/medium_train.json\n"
     ]
    },
    {
     "name": "stderr",
     "output_type": "stream",
     "text": [
      "100%|██████████| 900/900 [00:01<00:00, 700.17it/s]\n"
     ]
    },
    {
     "name": "stdout",
     "output_type": "stream",
     "text": [
      "Created 12759 contrastive pairs\n",
      "Saved 12759 pairs to ../data/processed/medium_valid.json\n"
     ]
    },
    {
     "name": "stderr",
     "output_type": "stream",
     "text": [
      "100%|██████████| 4200/4200 [02:28<00:00, 28.37it/s]\n"
     ]
    },
    {
     "name": "stdout",
     "output_type": "stream",
     "text": [
      "Created 51061 contrastive pairs\n",
      "Saved 51061 pairs to ../data/processed/hard_train.json\n"
     ]
    },
    {
     "name": "stderr",
     "output_type": "stream",
     "text": [
      "100%|██████████| 900/900 [00:25<00:00, 34.73it/s]\n"
     ]
    },
    {
     "name": "stdout",
     "output_type": "stream",
     "text": [
      "Created 10648 contrastive pairs\n",
      "Saved 10648 pairs to ../data/processed/hard_valid.json\n"
     ]
    }
   ],
   "source": [
    "def save_dataset(pairs: List[Dict[str, Any]], output_file: str):\n",
    "    \"\"\"Save the dataset to a JSON file.\"\"\"\n",
    "    with open(output_file, \"w\", encoding=\"utf-8\") as f:\n",
    "        json.dump({\"data\": pairs}, f, indent=2)\n",
    "\n",
    "def main():\n",
    "    for difficulty in [\"easy\", \"medium\", \"hard\"]:\n",
    "\n",
    "        dir_path_train = f\"../data/{difficulty}/train\"\n",
    "        dir_path_valid = f\"../data/{difficulty}/validation\"\n",
    "\n",
    "        output_train = f\"../data/processed/{difficulty}_train.json\"\n",
    "        output_valid = f\"../data/processed/{difficulty}_valid.json\"\n",
    "        \n",
    "        all_pairs_train = process_directory(dir_path_train)\n",
    "        print(f\"Created {len(all_pairs_train)} contrastive pairs\")\n",
    "        save_dataset(all_pairs_train, output_train)\n",
    "        print(f\"Saved {len(all_pairs_train)} pairs to {output_train}\")\n",
    "\n",
    "        all_pairs_valid = process_directory(dir_path_valid)\n",
    "        print(f\"Created {len(all_pairs_valid)} contrastive pairs\")\n",
    "        save_dataset(all_pairs_valid, output_valid)\n",
    "        print(f\"Saved {len(all_pairs_valid)} pairs to {output_valid}\")\n",
    "\n",
    "if __name__ == \"__main__\":\n",
    "    main()"
   ]
  },
  {
   "cell_type": "code",
   "execution_count": null,
   "id": "22ad3691",
   "metadata": {},
   "outputs": [],
   "source": []
  }
 ],
 "metadata": {
  "kernelspec": {
   "display_name": "tc",
   "language": "python",
   "name": "tc"
  },
  "language_info": {
   "codemirror_mode": {
    "name": "ipython",
    "version": 3
   },
   "file_extension": ".py",
   "mimetype": "text/x-python",
   "name": "python",
   "nbconvert_exporter": "python",
   "pygments_lexer": "ipython3",
   "version": "3.10.16"
  }
 },
 "nbformat": 4,
 "nbformat_minor": 5
}
